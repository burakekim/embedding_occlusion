{
 "cells": [
  {
   "cell_type": "code",
   "execution_count": 1,
   "metadata": {},
   "outputs": [
    {
     "name": "stderr",
     "output_type": "stream",
     "text": [
      "Global seed set to 42\n",
      "/opt/conda/lib/python3.8/site-packages/tqdm/auto.py:21: TqdmWarning: IProgress not found. Please update jupyter and ipywidgets. See https://ipywidgets.readthedocs.io/en/stable/user_install.html\n",
      "  from .autonotebook import tqdm as notebook_tqdm\n"
     ]
    }
   ],
   "source": [
    "import os\n",
    "os.chdir('/ws/git_naturalness_influence/NEW')\n",
    "os.environ['CUDA_VISIBLE_DEVICES'] = \"3\"\n",
    "\n",
    "from ni_dataset import MapInWild_Naturalness\n",
    "from custom_unet import UNet\n",
    "from pl_trainer import UNetSimple\n",
    "\n",
    "import albumentations as A\n",
    "import numpy as np\n",
    "import torch\n",
    "from tqdm.auto import tqdm\n",
    "import pickle\n",
    "from helpers import get_channels, stretch, cmap, convert_to_color_wc\n",
    "\n",
    "from matplotlib import pyplot as plt\n",
    "from mpl_toolkits.axes_grid1 import ImageGrid\n",
    "\n",
    "\n",
    "%load_ext autoreload\n",
    "%autoreload 2"
   ]
  },
  {
   "cell_type": "code",
   "execution_count": 2,
   "metadata": {},
   "outputs": [
    {
     "name": "stdout",
     "output_type": "stream",
     "text": [
      "len(train_dataset):815 \n",
      " len(val_dataset):101 \n",
      "len(test_dataset):102\n"
     ]
    }
   ],
   "source": [
    "#dataset args\n",
    "\n",
    "dataset_root = '/data/Dataset_'\n",
    "split_file = '/data/aux_/split_IDs/tvt_split.csv'\n",
    "subset_file = '/data/aux_/single_temporal_subset/single_temporal_subset.csv'\n",
    "bands = (\"VV\",\"VH\",\"B2\",\"B3\",\"B4\",\"B5\",\"B6\",\"B7\",\"B8\",\"B8A\",\"B11\",\"B12\",\"2020_Map\",\"avg_rad\")\n",
    "crop_size = (1920,1920)\n",
    "batch_size = 32\n",
    "#args\n",
    "device = \"cuda\"\n",
    "# checkpoint_path = \"./unetsimple_checkpoints/unetsimple-epoch=182-val_loss=0.12.ckpt\"\n",
    "checkpoint_path = \"./unetsimple_checkpoints/unetsimple-epoch=40-val_loss=0.13.ckpt\"\n",
    "test_transform = A.Compose([A.RandomCrop(crop_size[0], crop_size[1], p=1.0)])\n",
    "\n",
    "\n",
    "train_dataset = MapInWild_Naturalness(split_file= split_file, root= dataset_root,split='train', \n",
    "                                bands= bands, subsetpath = subset_file, transforms=None)\n",
    "\n",
    "val_dataset = MapInWild_Naturalness(split_file= split_file, root= dataset_root,split='validation', \n",
    "                                bands= bands, subsetpath = subset_file, transforms=None)\n",
    "\n",
    "test_dataset = MapInWild_Naturalness(split_file= split_file, root= dataset_root,split='test', \n",
    "                                bands= bands, subsetpath = subset_file, transforms=None)\n",
    "\n",
    "print(f\"len(train_dataset):{len(train_dataset)} \\n len(val_dataset):{len(val_dataset)} \\nlen(test_dataset):{len(test_dataset)}\")"
   ]
  },
  {
   "cell_type": "code",
   "execution_count": 3,
   "metadata": {},
   "outputs": [],
   "source": [
    "model = UNetSimple(input_size=crop_size)\n",
    "\n",
    "model = model.load_from_checkpoint(checkpoint_path= checkpoint_path,\n",
    "                          map_location= device, input_size=crop_size)\n",
    "model = model.eval()"
   ]
  },
  {
   "cell_type": "markdown",
   "metadata": {},
   "source": [
    "# Pickle-ize"
   ]
  },
  {
   "cell_type": "code",
   "execution_count": 4,
   "metadata": {},
   "outputs": [],
   "source": [
    "class PicklePopulater(): \n",
    "    \"\"\"\n",
    "    Opens and populates a pickle in a loop for a given function. \n",
    "    \"\"\"\n",
    "    def __init__(\n",
    "        self,\n",
    "        pickle_fname,\n",
    "        dataset,\n",
    "        populater_function,\n",
    "        keys):\n",
    "\n",
    "        self.pickle_fname = pickle_fname\n",
    "        self.populater_function = populater_function\n",
    "        self.keys = keys\n",
    "        self.dataset = dataset\n",
    "\n",
    "    def populate_pickle(self):\n",
    "        dict = {}\n",
    "        image_data_list = []\n",
    "        wdpa_ids_list = []\n",
    "\n",
    "        filename = self.pickle_fname\n",
    "        self.open_pickle(filename)\n",
    "\n",
    "        with open(filename, 'wb') as f:\n",
    "            for i in tqdm(range(len(self.dataset))):\n",
    "\n",
    "                image_data, wdpa_id = self.populater_function(i, dataset= self.dataset)\n",
    "\n",
    "                wdpa_ids_list.append(wdpa_id)\n",
    "                image_data_list.append(image_data)\n",
    "\n",
    "            dict[self.keys[0]] = wdpa_ids_list\n",
    "            dict[self.keys[1]] = image_data_list\n",
    "\n",
    "            pickle.dump(dict, f)\n",
    "\n",
    "    @staticmethod\n",
    "    def open_pickle(pickle_fname):\n",
    "        esa_miw_fname = pickle_fname \n",
    "        outfile = open(esa_miw_fname,'wb')"
   ]
  },
  {
   "cell_type": "code",
   "execution_count": 31,
   "metadata": {},
   "outputs": [],
   "source": [
    "all_bands = \"VV\",\"VH\",\"B2\",\"B3\",\"B4\",\"B5\",\"B6\",\"B7\",\"B8\",\"B8A\",\"B11\",\"B12\",\"2020_Map\",\"avg_rad\"\n",
    "\n",
    "def get_raw_activation_map(idx, model=model, dataset=test_dataset):\n",
    "    out = dataset[idx]\n",
    "    wdpa_id = out[2]\n",
    "    image_data = out[0]\n",
    "    input = torch.Tensor(np.expand_dims(image_data, 0)).to(device)\n",
    "    logit = model.model(input, torch.zeros(1,14))\n",
    "    activation_map = logit[0].cpu().detach().numpy().squeeze()\n",
    "    return activation_map, wdpa_id\n",
    "\n",
    "def get_input(idx, dataset=train_dataset):\n",
    "    out = dataset[idx]\n",
    "    wdpa_id = out[2]\n",
    "    image_data = out[0]\n",
    "    im_no_lc = np.delete(image_data, -2, axis=0).numpy()\n",
    "    return im_no_lc, wdpa_id\n",
    "\n",
    "def get_test_input(idx, dataset=test_dataset):\n",
    "    out = dataset[idx]\n",
    "    wdpa_id = out[2]\n",
    "    image_data = out[0]\n",
    "    input = torch.Tensor(np.expand_dims(image_data, 0)).to(device)\n",
    "    return input, wdpa_id\n",
    "\n",
    "def get_esa_wc(idx, dataset=test_dataset):\n",
    "    out = dataset[idx]\n",
    "    wdpa_id = out[2]\n",
    "    esa_wc = get_channels(im = out[0], all_channels = all_bands, select_channels = ['2020_Map'])\n",
    "    return esa_wc.squeeze().numpy(), wdpa_id\n",
    "\n",
    "def get_annot_values(idx, dataset=test_dataset):\n",
    "    out = dataset[idx]\n",
    "    wdpa_id = out[2]\n",
    "    annot = out[1]\n",
    "    return annot.squeeze().numpy(), wdpa_id\n",
    "\n",
    "def load_pickle(pickle_fname):\n",
    "    with open(pickle_fname, 'rb') as f:\n",
    "        loaded_pickle = pickle.load(f)\n",
    "    print(\"keys ->\", loaded_pickle.keys())\n",
    "    return loaded_pickle\n",
    "\n",
    "def concat_vector_data(dict_, key_value, dataset=test_dataset):\n",
    "    storage_list = []\n",
    "    [storage_list.append(dict_[key_value][i]) for i in range(len(dataset))]\n",
    "    np_storage_list = np.asarray(storage_list)\n",
    "    unsq_np_list = np.expand_dims(np_storage_list,axis=1) \n",
    "    vector_dimension_ = unsq_np_list.shape[1]\n",
    "    vectors_ = np.moveaxis(unsq_np_list, 1, -1).reshape(-1, vector_dimension_)\n",
    "    return vectors_\n",
    "\n",
    "def std_dist(data, mean, std):\n",
    "    return (data- mean)/std\n",
    "\n",
    "def scale_range(input, min, max):\n",
    "    input += -(np.min(input))\n",
    "    input /= (1e-9 + np.max(input) / (max - min + 1e-9))\n",
    "    input += min\n",
    "    return input"
   ]
  },
  {
   "cell_type": "markdown",
   "metadata": {},
   "source": [
    "## Pickle-ize raw logits"
   ]
  },
  {
   "cell_type": "code",
   "execution_count": 31,
   "metadata": {
    "scrolled": true
   },
   "outputs": [
    {
     "name": "stderr",
     "output_type": "stream",
     "text": [
      "100%|██████████| 102/102 [01:34<00:00,  1.08it/s]\n"
     ]
    }
   ],
   "source": [
    "raw_logit_pop = PicklePopulater(pickle_fname=\"./pickles/raw_logits.pkl\",\n",
    "                                dataset=test_dataset,\n",
    "                                populater_function=get_raw_activation_map,\n",
    "                                keys=[\"wdpa_ids\",\"raw_ni_logits\"])\n",
    "\n",
    "raw_logit_pop.populate_pickle()"
   ]
  },
  {
   "cell_type": "code",
   "execution_count": 32,
   "metadata": {
    "scrolled": false
   },
   "outputs": [
    {
     "name": "stdout",
     "output_type": "stream",
     "text": [
      "keys -> dict_keys(['wdpa_ids', 'raw_ni_logits'])\n"
     ]
    },
    {
     "data": {
      "text/plain": [
       "(102, 102)"
      ]
     },
     "execution_count": 32,
     "metadata": {},
     "output_type": "execute_result"
    }
   ],
   "source": [
    "raw_logits = load_pickle(\"./pickles/raw_logits.pkl\")\n",
    "\n",
    "len(raw_logits[\"wdpa_ids\"]),len(raw_logits[\"raw_ni_logits\"])"
   ]
  },
  {
   "cell_type": "code",
   "execution_count": 54,
   "metadata": {
    "scrolled": true
   },
   "outputs": [
    {
     "data": {
      "text/plain": [
       "(1920, 1920)"
      ]
     },
     "execution_count": 54,
     "metadata": {},
     "output_type": "execute_result"
    }
   ],
   "source": [
    "raw_logits[\"raw_ni_logits\"][0].shape"
   ]
  },
  {
   "cell_type": "code",
   "execution_count": 35,
   "metadata": {},
   "outputs": [],
   "source": [
    "raw_logits_concat = concat_vector_data(raw_logits,\"raw_ni_logits\")"
   ]
  },
  {
   "cell_type": "code",
   "execution_count": 148,
   "metadata": {
    "scrolled": false
   },
   "outputs": [
    {
     "data": {
      "text/plain": [
       "Text(0.5, 1.0, 'Raw Logit Values')"
      ]
     },
     "execution_count": 148,
     "metadata": {},
     "output_type": "execute_result"
    },
    {
     "data": {
      "image/png": "[encoded data removed]",
      "text/plain": [
       "<Figure size 432x288 with 1 Axes>"
      ]
     },
     "metadata": {
      "needs_background": "light"
     },
     "output_type": "display_data"
    }
   ],
   "source": [
    "plt.hist(raw_logits_concat, color='orange')\n",
    "plt.grid(True)\n",
    "plt.xlabel('Pixel Values')\n",
    "plt.ylabel('Occurances')\n",
    "plt.title('Raw Logit Values')"
   ]
  },
  {
   "cell_type": "markdown",
   "metadata": {},
   "source": [
    "## Pickle-ize LC maps"
   ]
  },
  {
   "cell_type": "code",
   "execution_count": 95,
   "metadata": {
    "scrolled": true
   },
   "outputs": [
    {
     "name": "stderr",
     "output_type": "stream",
     "text": [
      "100%|██████████| 102/102 [01:11<00:00,  1.42it/s]\n"
     ]
    }
   ],
   "source": [
    "pickle_fname = \"./pickles/test_landcover_maps.pkl\"\n",
    "\n",
    "test_landcover_maps_pop = PicklePopulater(pickle_fname=pickle_fname,\n",
    "                                dataset=test_dataset,\n",
    "                                populater_function=get_esa_wc,\n",
    "                                keys=[\"wdpa_ids\",\"test_landcover_maps\"])\n",
    "\n",
    "test_landcover_maps_pop.populate_pickle()"
   ]
  },
  {
   "cell_type": "code",
   "execution_count": 96,
   "metadata": {
    "scrolled": false
   },
   "outputs": [
    {
     "name": "stdout",
     "output_type": "stream",
     "text": [
      "keys -> dict_keys(['wdpa_ids', 'test_landcover_maps'])\n"
     ]
    },
    {
     "data": {
      "text/plain": [
       "(102, 102)"
      ]
     },
     "execution_count": 96,
     "metadata": {},
     "output_type": "execute_result"
    }
   ],
   "source": [
    "lc_maps = load_pickle(pickle_fname)\n",
    "\n",
    "len(lc_maps[\"wdpa_ids\"]),len(lc_maps[\"test_landcover_maps\"])"
   ]
  },
  {
   "cell_type": "code",
   "execution_count": 97,
   "metadata": {
    "scrolled": false
   },
   "outputs": [
    {
     "data": {
      "text/plain": [
       "(1920, 1920)"
      ]
     },
     "execution_count": 97,
     "metadata": {},
     "output_type": "execute_result"
    }
   ],
   "source": [
    "lc_maps[\"test_landcover_maps\"][4].shape"
   ]
  },
  {
   "cell_type": "code",
   "execution_count": 116,
   "metadata": {},
   "outputs": [],
   "source": [
    "test_landcover_maps_concat = concat_vector_data(lc_maps,\"test_landcover_maps\")"
   ]
  },
  {
   "cell_type": "code",
   "execution_count": 144,
   "metadata": {},
   "outputs": [
    {
     "data": {
      "text/plain": [
       "376012800"
      ]
     },
     "execution_count": 144,
     "metadata": {},
     "output_type": "execute_result"
    }
   ],
   "source": [
    "len(test_landcover_maps_concat) "
   ]
  },
  {
   "cell_type": "code",
   "execution_count": 117,
   "metadata": {
    "scrolled": true
   },
   "outputs": [
    {
     "data": {
      "text/plain": [
       "array([ 10.,  20.,  30.,  40.,  50.,  60.,  70.,  80.,  90.,  95., 100.],\n",
       "      dtype=float32)"
      ]
     },
     "execution_count": 117,
     "metadata": {},
     "output_type": "execute_result"
    }
   ],
   "source": [
    "np.unique(test_landcover_maps_concat)"
   ]
  },
  {
   "cell_type": "code",
   "execution_count": 119,
   "metadata": {
    "scrolled": false
   },
   "outputs": [
    {
     "data": {
      "image/png": "[encoded data removed]",
      "text/plain": [
       "<Figure size 864x432 with 1 Axes>"
      ]
     },
     "metadata": {
      "needs_background": "light"
     },
     "output_type": "display_data"
    }
   ],
   "source": [
    "hist, bins = np.histogram(test_landcover_maps_concat)\n",
    "\n",
    "x_labels = [\"Tree cover\", \"Shrubland\", \"Grassland\", \"Cropland\", \"Built-up\", \n",
    "            \"Bare / sparse vegetation\", \"Snow and ice\", \"Permanent water bodies\", \n",
    "            \"Herbaceous wetland\", \"Mangroves\", \"Moss and lichen\"]\n",
    "\n",
    "colors = [(0,100,0), (255, 187, 34), (255, 255, 76), (240, 150, 255), (250, 0, 0), \n",
    "          (180, 180, 180), (240, 240, 240), (0, 100, 200), (0, 150, 160), (0, 207, 117), \n",
    "          (250, 230, 160)]\n",
    "\n",
    "colors = [(r/255, g/255, b/255) for r, g, b in colors]\n",
    "\n",
    "plt.figure(figsize=(12, 6))\n",
    "bars = plt.bar(range(len(hist)), hist, color=colors)\n",
    "\n",
    "plt.xlabel('Pixel Values')\n",
    "plt.ylabel('Occurances')\n",
    "plt.title('Land Cover Values')\n",
    "plt.xticks(range(len(x_labels)), x_labels, rotation=45)\n",
    "\n",
    "plt.show()\n"
   ]
  },
  {
   "cell_type": "markdown",
   "metadata": {},
   "source": [
    "## pickle-ize NI maps"
   ]
  },
  {
   "cell_type": "code",
   "execution_count": 6,
   "metadata": {},
   "outputs": [
    {
     "name": "stderr",
     "output_type": "stream",
     "text": [
      "100%|██████████| 102/102 [00:26<00:00,  3.82it/s]\n"
     ]
    }
   ],
   "source": [
    "pickle_fname = \"./pickles/test_ANNOT_ni.pkl\"\n",
    "\n",
    "test_ni_GT_populater = PicklePopulater(pickle_fname=pickle_fname,\n",
    "                                    populater_function=get_annot_values,\n",
    "                                    dataset=test_dataset,\n",
    "                                    keys=[\"wdpa_ids\",\"ni_gt_map\"])\n",
    "\n",
    "test_ni_GT_populater.populate_pickle()"
   ]
  },
  {
   "cell_type": "code",
   "execution_count": 126,
   "metadata": {
    "scrolled": false
   },
   "outputs": [
    {
     "name": "stdout",
     "output_type": "stream",
     "text": [
      "keys -> dict_keys(['wdpa_ids', 'ni_gt_map'])\n"
     ]
    },
    {
     "data": {
      "text/plain": [
       "(102, 102)"
      ]
     },
     "execution_count": 126,
     "metadata": {},
     "output_type": "execute_result"
    }
   ],
   "source": [
    "test_ni_gt_raw = load_pickle(pickle_fname)\n",
    "\n",
    "len(test_ni_gt_raw[\"wdpa_ids\"]),len(test_ni_gt_raw[\"ni_gt_map\"])"
   ]
  },
  {
   "cell_type": "code",
   "execution_count": 131,
   "metadata": {},
   "outputs": [
    {
     "data": {
      "text/plain": [
       "<ni_dataset.MapInWild_Naturalness at 0x7fe0c465aa90>"
      ]
     },
     "execution_count": 131,
     "metadata": {},
     "output_type": "execute_result"
    }
   ],
   "source": [
    "test_dataset"
   ]
  },
  {
   "cell_type": "code",
   "execution_count": 143,
   "metadata": {},
   "outputs": [
    {
     "data": {
      "text/plain": [
       "376012800"
      ]
     },
     "execution_count": 143,
     "metadata": {},
     "output_type": "execute_result"
    }
   ],
   "source": [
    "len(test_ni_gt_raw_flatten)"
   ]
  },
  {
   "cell_type": "code",
   "execution_count": 132,
   "metadata": {},
   "outputs": [],
   "source": [
    "test_ni_gt_raw_flatten = concat_vector_data(test_ni_gt_raw,\"ni_gt_map\")"
   ]
  },
  {
   "cell_type": "code",
   "execution_count": 147,
   "metadata": {
    "scrolled": true
   },
   "outputs": [
    {
     "data": {
      "text/plain": [
       "Text(0.5, 1.0, 'NI Annotation Values')"
      ]
     },
     "execution_count": 147,
     "metadata": {},
     "output_type": "execute_result"
    },
    {
     "data": {
      "image/png": "[encoded data removed]",
      "text/plain": [
       "<Figure size 432x288 with 1 Axes>"
      ]
     },
     "metadata": {
      "needs_background": "light"
     },
     "output_type": "display_data"
    }
   ],
   "source": [
    "plt.hist(test_ni_gt_raw_flatten, color='orange')\n",
    "plt.grid(True)\n",
    "plt.xlabel('Pixel Values')\n",
    "plt.ylabel('Occurances')\n",
    "plt.title('NI Annotation Values')"
   ]
  },
  {
   "cell_type": "markdown",
   "metadata": {},
   "source": [
    "## all splits"
   ]
  },
  {
   "cell_type": "code",
   "execution_count": 13,
   "metadata": {},
   "outputs": [],
   "source": [
    "def all_dataset_pickle(populate_function, train_dataset=train_dataset, val_dataset=val_dataset, test_dataset=test_dataset):\n",
    "    dataset_str = (\"train_dataset\",\"val_dataset\",\"test_dataset\")\n",
    "    for dataset_str, dataset in zip(dataset_str, [train_dataset, val_dataset, test_dataset]):\n",
    "\n",
    "        filename = f\"{dataset_str}_{populate_function.__name__}.pkl\"\n",
    "        pickle_filepath = f\"./pickles/{filename}\"\n",
    "\n",
    "        populater = PicklePopulater(pickle_fname=pickle_filepath,\n",
    "                                            populater_function=populate_function,\n",
    "                                            dataset=dataset,\n",
    "                                            keys=[\"wdpa_ids\",\"values\"])\n",
    "\n",
    "        populater.populate_pickle()"
   ]
  },
  {
   "cell_type": "code",
   "execution_count": 14,
   "metadata": {
    "scrolled": true
   },
   "outputs": [
    {
     "name": "stderr",
     "output_type": "stream",
     "text": [
      "100%|██████████| 815/815 [03:41<00:00,  3.67it/s]\n",
      "100%|██████████| 101/101 [00:25<00:00,  3.91it/s]\n",
      "100%|██████████| 102/102 [00:24<00:00,  4.25it/s]\n"
     ]
    }
   ],
   "source": [
    "all_dataset_pickle(get_annot_values)"
   ]
  },
  {
   "cell_type": "code",
   "execution_count": 16,
   "metadata": {
    "scrolled": true
   },
   "outputs": [
    {
     "name": "stdout",
     "output_type": "stream",
     "text": [
      "keys -> dict_keys(['wdpa_ids', 'values'])\n",
      "keys -> dict_keys(['wdpa_ids', 'values'])\n",
      "keys -> dict_keys(['wdpa_ids', 'values'])\n",
      "len(fl_train_ni_annot):3004416000 \n",
      " len(fl_val_ni_annot):372326400 \n",
      "len(fl_test_ni_annot):376012800\n"
     ]
    }
   ],
   "source": [
    "train_pickle_fname = \"./pickles/train_dataset_get_annot_values.pkl\"\n",
    "val_pickle_fname = \"./pickles/val_dataset_get_annot_values.pkl\"\n",
    "test_pickle_fname = \"./pickles/test_dataset_get_annot_values.pkl\"\n",
    "\n",
    "pickle_train_ni_annot = load_pickle(train_pickle_fname)\n",
    "pickle_val_ni_annot = load_pickle(val_pickle_fname)\n",
    "pickle_test_ni_annot = load_pickle(test_pickle_fname)\n",
    "\n",
    "fl_train_ni_annot = concat_vector_data(pickle_train_ni_annot,\"values\", train_dataset)\n",
    "fl_val_ni_annot = concat_vector_data(pickle_val_ni_annot,\"values\", val_dataset)\n",
    "fl_test_ni_annot = concat_vector_data(pickle_test_ni_annot,\"values\", test_dataset)\n",
    "\n",
    "print(f\"len(fl_train_ni_annot):{len(fl_train_ni_annot)} \\n len(fl_val_ni_annot):{len(fl_val_ni_annot)} \\nlen(fl_test_ni_annot):{len(fl_test_ni_annot)}\")"
   ]
  },
  {
   "cell_type": "code",
   "execution_count": 25,
   "metadata": {},
   "outputs": [],
   "source": [
    "tr_val = np.concatenate((fl_train_ni_annot, fl_val_ni_annot), axis=0)\n",
    "tvt_all = np.concatenate((tr_val, fl_test_ni_annot), axis=0)"
   ]
  },
  {
   "cell_type": "code",
   "execution_count": 32,
   "metadata": {
    "scrolled": false
   },
   "outputs": [
    {
     "data": {
      "text/plain": [
       "Text(0.5, 1.0, 'All NI Annotation Values')"
      ]
     },
     "execution_count": 32,
     "metadata": {},
     "output_type": "execute_result"
    },
    {
     "data": {
      "image/png": "[encoded data removed]",
      "text/plain": [
       "<Figure size 432x288 with 1 Axes>"
      ]
     },
     "metadata": {
      "needs_background": "light"
     },
     "output_type": "display_data"
    }
   ],
   "source": [
    "plt.hist(tvt_all, color='orange')\n",
    "plt.grid(True)\n",
    "plt.xlabel('Pixel Values')\n",
    "plt.ylabel('Occurances')\n",
    "plt.title('All NI Annotation Values')"
   ]
  },
  {
   "cell_type": "markdown",
   "metadata": {},
   "source": [
    "## Stats"
   ]
  },
  {
   "cell_type": "markdown",
   "metadata": {},
   "source": [
    "#### get test NI prediction and LC"
   ]
  },
  {
   "cell_type": "code",
   "execution_count": 6,
   "metadata": {
    "scrolled": true
   },
   "outputs": [
    {
     "name": "stdout",
     "output_type": "stream",
     "text": [
      "keys -> dict_keys(['wdpa_ids', 'raw_ni_logits'])\n"
     ]
    }
   ],
   "source": [
    "raw_logits = load_pickle(\"./pickles/raw_logits.pkl\")\n",
    "\n",
    "len(raw_logits[\"wdpa_ids\"]),len(raw_logits[\"raw_ni_logits\"])\n",
    "\n",
    "raw_logits_concat = concat_vector_data(raw_logits,\"raw_ni_logits\")"
   ]
  },
  {
   "cell_type": "code",
   "execution_count": 7,
   "metadata": {
    "scrolled": false
   },
   "outputs": [
    {
     "name": "stdout",
     "output_type": "stream",
     "text": [
      "keys -> dict_keys(['wdpa_ids', 'test_landcover_maps'])\n"
     ]
    }
   ],
   "source": [
    "pickle_fname = \"./pickles/test_landcover_maps.pkl\"\n",
    "\n",
    "lc_maps = load_pickle(pickle_fname)\n",
    "\n",
    "lc_maps_concat = concat_vector_data(lc_maps,\"test_landcover_maps\")"
   ]
  },
  {
   "cell_type": "code",
   "execution_count": 8,
   "metadata": {},
   "outputs": [
    {
     "data": {
      "text/plain": [
       "True"
      ]
     },
     "execution_count": 8,
     "metadata": {},
     "output_type": "execute_result"
    }
   ],
   "source": [
    "len(lc_maps_concat) == len(raw_logits_concat)"
   ]
  },
  {
   "cell_type": "code",
   "execution_count": 9,
   "metadata": {
    "scrolled": false
   },
   "outputs": [
    {
     "data": {
      "text/plain": [
       "array([ 10.,  20.,  30.,  40.,  50.,  60.,  70.,  80.,  90.,  95., 100.],\n",
       "      dtype=float32)"
      ]
     },
     "execution_count": 9,
     "metadata": {},
     "output_type": "execute_result"
    }
   ],
   "source": [
    "np.unique(lc_maps_concat)"
   ]
  },
  {
   "cell_type": "code",
   "execution_count": 66,
   "metadata": {
    "scrolled": true
   },
   "outputs": [
    {
     "name": "stdout",
     "output_type": "stream",
     "text": [
      "Category: 10\n",
      "mean: 0.479469\n",
      "std: 0.029773\n",
      "median: 0.484351\n",
      "25th percentile: 0.474326\n",
      "75th percentile: 0.493047\n",
      "------\n",
      "Category: 20\n",
      "mean: 0.393788\n",
      "std: 0.027984\n",
      "median: 0.390887\n",
      "25th percentile: 0.381435\n",
      "75th percentile: 0.404610\n",
      "------\n",
      "Category: 30\n",
      "mean: 0.369071\n",
      "std: 0.039216\n",
      "median: 0.375571\n",
      "25th percentile: 0.360261\n",
      "75th percentile: 0.384987\n",
      "------\n",
      "Category: 40\n",
      "mean: 0.281274\n",
      "std: 0.034295\n",
      "median: 0.278986\n",
      "25th percentile: 0.266060\n",
      "75th percentile: 0.297952\n",
      "------\n",
      "Category: 50\n",
      "mean: 0.199116\n",
      "std: 0.071744\n",
      "median: 0.188925\n",
      "25th percentile: 0.144192\n",
      "75th percentile: 0.245976\n",
      "------\n",
      "Category: 60\n",
      "mean: 0.341001\n",
      "std: 0.048854\n",
      "median: 0.340345\n",
      "25th percentile: 0.320333\n",
      "75th percentile: 0.363828\n",
      "------\n",
      "Category: 70\n",
      "mean: 0.363066\n",
      "std: 0.047507\n",
      "median: 0.365788\n",
      "25th percentile: 0.345363\n",
      "75th percentile: 0.385102\n",
      "------\n",
      "Category: 80\n",
      "mean: -0.051785\n",
      "std: 0.129362\n",
      "median: -0.096654\n",
      "25th percentile: -0.111724\n",
      "75th percentile: -0.076969\n",
      "------\n",
      "Category: 90\n",
      "mean: 0.399786\n",
      "std: 0.115575\n",
      "median: 0.426241\n",
      "25th percentile: 0.382470\n",
      "75th percentile: 0.456706\n",
      "------\n",
      "Category: 95\n",
      "mean: 0.464890\n",
      "std: 0.033754\n",
      "median: 0.463838\n",
      "25th percentile: 0.453886\n",
      "75th percentile: 0.481074\n",
      "------\n",
      "Category: 100\n",
      "mean: 0.462285\n",
      "std: 0.062137\n",
      "median: 0.469624\n",
      "25th percentile: 0.432193\n",
      "75th percentile: 0.499559\n",
      "------\n"
     ]
    }
   ],
   "source": [
    "categories = np.array(lc_maps_concat, dtype='uint8').ravel()\n",
    "outputs = raw_logits_concat.ravel()\n",
    "\n",
    "unique_categories = np.unique(categories)\n",
    "\n",
    "statistics = {}\n",
    "for cat in unique_categories:\n",
    "    mask = (categories == cat)\n",
    "    out = outputs[mask]\n",
    "    \n",
    "    statistics[cat] = {\n",
    "        'mean': np.mean(out),\n",
    "        'std': np.std(out),\n",
    "        'median': np.median(out),\n",
    "        '25th percentile': np.percentile(out, 25),\n",
    "        '75th percentile': np.percentile(out, 75)\n",
    "    }\n",
    "\n",
    "for cat, stats in statistics.items():\n",
    "    print(f\"Category: {cat}\")\n",
    "    for key, value in stats.items():\n",
    "        print(f\"{key}: {value:.6f}\")\n",
    "    print(\"------\")\n"
   ]
  },
  {
   "cell_type": "code",
   "execution_count": 79,
   "metadata": {
    "scrolled": false
   },
   "outputs": [
    {
     "data": {
      "image/png": "[encoded data removed]",
      "text/plain": [
       "<Figure size 432x288 with 1 Axes>"
      ]
     },
     "metadata": {
      "needs_background": "light"
     },
     "output_type": "display_data"
    }
   ],
   "source": [
    "import matplotlib.pyplot as plt\n",
    "import numpy as np\n",
    "\n",
    "x_labels = [\"Tree cover\", \"Shrubland\", \"Grassland\", \"Cropland\", \"Built-up\", \n",
    "            \"Bare / sparse vegetation\", \"Snow and ice\", \"Permanent water bodies\", \n",
    "            \"Herbaceous wetland\", \"Mangroves\", \"Moss and lichen\"]\n",
    "\n",
    "stats = statistics\n",
    "categories = list(stats.keys())\n",
    "data = []\n",
    "\n",
    "for category in categories:\n",
    "    min_val = stats[category]['25th percentile'] - 1.5 * (stats[category]['75th percentile'] - stats[category]['25th percentile'])\n",
    "    q1 = stats[category]['25th percentile']\n",
    "    median = stats[category]['median']\n",
    "    q3 = stats[category]['75th percentile']\n",
    "    max_val = stats[category]['75th percentile'] + 1.5 * (stats[category]['75th percentile'] - stats[category]['25th percentile'])\n",
    "    \n",
    "    data.append([min_val, q1, median, q3, max_val])\n",
    "\n",
    "plt.boxplot(data, labels=x_labels)\n",
    "plt.xlabel('Categories')\n",
    "plt.ylabel('Values')\n",
    "plt.title('Statistics for Multiple Categories')\n",
    "plt.xticks(ticks=np.arange(1, len(categories) + 1), labels=x_labels, rotation=90)\n",
    "plt.show()\n"
   ]
  }
 ],
 "metadata": {
  "kernelspec": {
   "display_name": "Python 3",
   "language": "python",
   "name": "python3"
  },
  "language_info": {
   "codemirror_mode": {
    "name": "ipython",
    "version": 3
   },
   "file_extension": ".py",
   "mimetype": "text/x-python",
   "name": "python",
   "nbconvert_exporter": "python",
   "pygments_lexer": "ipython3",
   "version": "3.8.8"
  },
  "vscode": {
   "interpreter": {
    "hash": "ed5e7099df2b77fae11fd120475ed877cd37ce80a837d782456b097fd7a8c92c"
   }
  }
 },
 "nbformat": 4,
 "nbformat_minor": 4
}
